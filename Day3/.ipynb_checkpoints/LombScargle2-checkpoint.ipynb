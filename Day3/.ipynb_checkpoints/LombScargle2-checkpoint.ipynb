{
 "cells": [
  {
   "cell_type": "markdown",
   "metadata": {
    "slideshow": {
     "slide_type": "slide"
    }
   },
   "source": [
    "# Introduction to Time Series: Lomb Scargle Periodograms II\n",
    "\n",
    "Sarah Blunt, CIERA/Northwestern\n",
    "\n",
    "Presented at LSST Discovery Alliance Data Science Fellowship Program Session 20: Time Series"
   ]
  },
  {
   "cell_type": "markdown",
   "metadata": {
    "slideshow": {
     "slide_type": "slide"
    }
   },
   "source": [
    "This lesson draws heavily from Jake van der Plas' excellent paper, \"Understanding the Lomb-Scargle Periodogram,\" and all figures are taken directly from that paper unless otherwise noted. \n",
    "\n",
    "https://arxiv.org/abs/1703.09824\n",
    "\n",
    "### Goals for this Lesson:\n",
    "By the end of this lesson, you will be able to:\n",
    "- outline the derivation of the Lomb-Scargle periodogram from Fourier and least-squares arguments\n",
    "- explain how to modify the Lomb-Scargle periodogram to account for observational uncertainties and unknown mean values\n",
    "- decide on a frequency grid for a dataset of interest [after problem set]\n",
    "- state limitations of the Lomb-Scargle periodogram "
   ]
  },
  {
   "cell_type": "markdown",
   "metadata": {
    "slideshow": {
     "slide_type": "slide"
    }
   },
   "source": [
    "Yesterday, I showed you a lot of plots that looked like this:\n",
    "\n",
    "![data-example](../Day1/data-and-images/vanderPlas-fig10.jpg)\n",
    "\n",
    "Why do we use the Lomb-Scargle periodogram instead of the thing shown in the bottom right? What's the difference?"
   ]
  },
  {
   "cell_type": "markdown",
   "metadata": {
    "slideshow": {
     "slide_type": "slide"
    }
   },
   "source": [
    "As a brief reminder, periodograms are *statistical estimators* of the power spectrum, which is the \"true\" underlying signal we want to estimate through sampling. \n",
    "\n",
    "periodogram --> estimator of --> power spectrum = $|\\mathcal{F}\\{g\\}|^2$\n",
    "\n",
    "Let's construct a periodogram. The most logical thing to do might seem to be to construct the periodogram from the discrete Fourier transform:\n",
    "\n",
    "$\\begin{aligned}P(f)  =\\frac{1}{N}\\left|\\sum_{n=1}^N g_n e^{-2 \\pi i f t_n}\\right|^2 \\\\ \\end{aligned}$\n",
    "\n",
    "Question: what is the difference between this equation and the discrete Fourier transform?"
   ]
  },
  {
   "cell_type": "markdown",
   "metadata": {
    "slideshow": {
     "slide_type": "slide"
    }
   },
   "source": [
    "This is a valid approach, and is often called the \"Schuster periodogram\" or the \"classical periodogram.\" However, this periodogram has some unsavory characteristics when applied to non-uniformly sampled data (i.e. data with inconsistent time spacing). A big issue is that the classical periodogram is, in general, NOT insensitive to time shifts in this limit.\n",
    "\n",
    "This is a big issue in astronomy. Remember, insensitivity to time shifts (the fact that $PSD(g(t))$ = $PSD(g(t - \\tau))$) is a big motivation for using the power spectrum to identify periodicity in the first place. "
   ]
  },
  {
   "cell_type": "markdown",
   "metadata": {
    "slideshow": {
     "slide_type": "slide"
    }
   },
   "source": [
    "How can we construct a periodogram that *is* insensitive to time shifts? Let's start by expanding out the definition of the classical periodogram:\n",
    "\n",
    "$\\begin{aligned}P(f)  &=\\frac{1}{N}\\left|\\sum_{n=1}^N g_n e^{-2 \\pi i f t_n}\\right|^2 \\\\ \n",
    " &=\\frac{1}{N}\\left[\\left(\\sum_n g_n \\cos \\left(2 \\pi f t_n\\right)\\right)^2+\\left(\\sum_n g_n \\sin \\left(2 \\pi f t_n\\right)\\right)^2\\right]\\end{aligned}$\n",
    "\n",
    "Scargle (1982) \"generalized\" this definition of the periodogram by adding in three constants: $A$, $B$, and $\\tau$ as follows:\n",
    "\n",
    "$\\begin{aligned}P(f)=\\frac{A^2}{2}\\left(\\sum_n g_n \\cos \\left(2 \\pi f\\left[t_n-\\tau\\right]\\right)\\right)^2+\\frac{B^2}{2}\\left(\\sum_n g_n \\sin \\left(2 \\pi f\\left[t_n-\\tau\\right]\\right)\\right)^2\\end{aligned}$\n",
    "\n",
    "He then solved for the values of A, B and $\\tau$ that would preserve the time shift invariance (and give the periogoram some other nice properties).\n",
    "\n",
    "I'm not going to write out the values of A, B, and $\\tau$ because I have never once needed to know them! Astropy implements them for you, and if you ever need to write a Lomb-Scargle periodogram from scratch, you can look it up. :)\n"
   ]
  },
  {
   "cell_type": "markdown",
   "metadata": {
    "slideshow": {
     "slide_type": "slide"
    }
   },
   "source": [
    "Here's the tl;dr so far: \n",
    "\n",
    "- The Lomb-Scargle periodogram is a slightly modified version of the classical periodogram. \n",
    "- Both periodograms are statistical estimators of the power spectrum. \n",
    "- The Lomb-Scargle periodogram is useful for non-uniformly sampled data because it is insensitive to time shifts, like the power spectrum.\n",
    "\n",
    "Everything you learned yesterday about window functions still (qualitatively) applies in the limit of Lomb-Scargle. We're just using a ~ more robust estimator ~ now."
   ]
  },
  {
   "cell_type": "markdown",
   "metadata": {
    "slideshow": {
     "slide_type": "slide"
    }
   },
   "source": [
    "![data-example](data-and-images/one-of-those-memes-the-kids-use.png)\n",
    "\n",
    "(via Exoplanet Memes for Habitable Teens)"
   ]
  },
  {
   "cell_type": "markdown",
   "metadata": {
    "slideshow": {
     "slide_type": "slide"
    }
   },
   "source": [
    "Ok, ready for some  M a t h  M a g i c ?\n",
    "\n",
    "It turns out that the version of the periodogram Scargle proposed, with smart choices of $A$, $B$, and $\\tau$, is *exactly the same** as the goodness of fit of the best-fit sinusoid at each proposed frequency. In other words, if you were to fit this model:\n",
    "\n",
    "$\\begin{aligned}y(t ; f)&=A_f \\sin \\left(2 \\pi f\\left(t-\\phi_f\\right)\\right)\\\\\n",
    "&= A_f \\sin \\left(2 \\pi f t\\right) + B_f \\cos \\left(2 \\pi f t\\right)\n",
    "\\end{aligned}$\n",
    "\n",
    "using the $\\chi^2$ goodness-of-fit:\n",
    "\n",
    "$\\chi^2(f) \\equiv \\sum_n\\left(y_n-y\\left(t_n ; f\\right)\\right)^2$\n",
    "\n",
    "to your data, at each frequency $f$ in the periodogram you want to make, **you would get the Lomb-Scargle periodogram**. This argument was published by Lomb (1982), which is why we call this object the Lomb-Scargle periodogram. However, it's important to remember that, like every other scientific advancement, the Lomb-Scargle periodogram was not just the work of Lomb and Scargle; in fact, Gottlieb et al. (1975) used a very similar approach. \n",
    "\n",
    "*technically proportional, not exactly equal. "
   ]
  },
  {
   "cell_type": "markdown",
   "metadata": {
    "slideshow": {
     "slide_type": "slide"
    }
   },
   "source": [
    "Let's look at a Lomb-Scargle periodogram again and talk through how to interpret a given peak:\n",
    "\n",
    "![data-example](data-and-images/lower-panel-vanderPlas-fig14.jpg)"
   ]
  },
  {
   "cell_type": "markdown",
   "metadata": {
    "slideshow": {
     "slide_type": "slide"
    }
   },
   "source": [
    "Amazingly, we have now reduced the Lomb-Scargle periodogram estimator to the linear problem of fitting a sinusoid to the data at each proposal frequency. This allows us to make a few neat extensions. In particular, we can easily incorporate observational uncertainties on our datapoints by modifying the $\\chi^2$ we use for our linear fit:\n",
    "\n",
    "$\\begin{aligned}\\chi^2(f) \\equiv \\sum_n\\left(\\frac{y_n-y\\left(t_n ; f\\right)}{\\sigma_n}\\right)^2\\end{aligned}$.\n",
    "\n",
    "We can also incorporate a non-zero fitted mean value by modifying the form of the model we fit to the data at each proposed frequency:\n",
    "\n",
    "$y_{\\text {model }}(t ; f)=y_0(f)+A_f \\sin \\left(2 \\pi f\\left(t-\\phi_f\\right)\\right)$\n",
    "\n",
    "This version of the Lomb-Scargle periodogram is often called the \"floating mean periodogram.\""
   ]
  },
  {
   "cell_type": "markdown",
   "metadata": {
    "slideshow": {
     "slide_type": "slide"
    }
   },
   "source": [
    "Aside: \"why can't we just subtract the mean before computing the periodogram?\n",
    "\n",
    "![data-example](data-and-images/vanderPlas-fig18.jpg)"
   ]
  },
  {
   "cell_type": "markdown",
   "metadata": {
    "slideshow": {
     "slide_type": "slide"
    }
   },
   "source": [
    "Some important limitations:\n",
    "\n",
    "- The Lomb-Scargle periodogram is valid for *uncorrelated Gaussian noise*. Correlated and/or non-Gaussian noise invalidates a lot of the math (and makes the periodogram perform badly in practice).\n",
    "- The Lomb-Scargle periodogram is not always easy to interpret. Especially in low-SNR situations, window function peaks, aliases, and beat periods are often confused for true signals.\n",
    "- The Lomb-Scargle periodogram fits a *sinusoidal* model to your data. If you have a strictly periodic thing that isn't shaped like a sinusoid, the periodogram may not recover it (but see problem 3).\n",
    "- The Lomb-Scargle periodogram is not a reliable method of error estimation. It should be used for periodicity identification, but *not* as a substitute for model-fitting and uncertainty quantification (e.g. with MCMC)."
   ]
  },
  {
   "cell_type": "markdown",
   "metadata": {
    "slideshow": {
     "slide_type": "slide"
    }
   },
   "source": [
    "Problems:\n",
    "\n",
    "1. Ok, do we really need the Lomb-Scargle?\n",
    "\n",
    "    a. Create some random observations of a sine curve. \n",
    "    b. Compute the classical periodogram (code this up yourself) and the Lomb-scargle periodogram (use astropy) for your dataset, and compare them. \n",
    "    c. Shift the observations in time and see how both change.\n",
    "\n",
    "2. Frequency schmequency.\n",
    "\n",
    "    a. Carefully read and digest section 7.2 of Jake's paper. \n",
    "    b. Investigate how `astropy.timeseries.LombScargle` chooses their frequency grid in the `autopower()` method by reading their docs. \n",
    "    c. What are some situations when you might not want to use the default? \n",
    "    d. Investigate how the Lomb Scargle periodogram changes when you *undersample* the peaks using your randomly simulated sinusoid data (from question 1). You can also check out Figure 23 of Jake's paper as an example.\n",
    "\n",
    "3. Book report.\n",
    "\n",
    "    a. Read section 6.3 of Jake's paper and summarize it in a sentence or two.\n",
    "    b. What are some pros and cons of using multi-term periodograms? \n",
    "    c. Look at Figures 6 and 7 from [my recent paper](https://ui.adsabs.harvard.edu/abs/2023AJ....166...62B/abstract). Why would a multi-term periodogram be useful for the radial velocity signal I am describing here?"
   ]
  },
  {
   "cell_type": "code",
   "execution_count": 10,
   "metadata": {},
   "outputs": [
    {
     "data": {
      "image/png": "[encoded data removed]",
      "text/plain": [
       "<Figure size 1000x400 with 1 Axes>"
      ]
     },
     "metadata": {},
     "output_type": "display_data"
    }
   ],
   "source": [
    "import numpy as np\n",
    "import matplotlib.pyplot as plt\n",
    "from astropy.timeseries import LombScargle\n",
    "\n",
    "# generate random data over 1 year\n",
    "num_samples = 1000\n",
    "hours_per_year = 365\n",
    "times = np.random.uniform(0, hours_per_year, size=num_samples)  # [units = hours]\n",
    "\n",
    "period = 10  # [units = hours]\n",
    "measurements = np.sin(2 * np.pi * times / period)\n",
    "\n",
    "fig, ax = plt.subplots(1, 1, figsize=(10, 4))\n",
    "ax.scatter(times, measurements, color=\"rebeccapurple\", s=1)\n",
    "ax.set_xlabel(\"time [hours]\")\n",
    "plt.tight_layout()"
   ]
  },
  {
   "cell_type": "code",
   "execution_count": null,
   "metadata": {},
   "outputs": [],
   "source": [
    "# b. Compute the classical periodogram (code this up yourself)\n",
    "# and the Lomb-scargle periodogram (use astropy) for your dataset,\n",
    "# and compare them\n",
    "\n",
    "def classical_periodogram(measurements, times, frequency):\n",
    "    cos_one = np.array([(np.sum([gn*np.cos(2*np.pi*fq*tn) for gn, tn in zip(measurements, times)])) for fq in frequency])\n",
    "    sin_one = np.array([(np.sum([gn*np.sin(2*np.pi*fq*tn) for gn, tn in zip(measurements, times)])) for fq in frequency])\n",
    "    classical_periodogram = 1/num_samples * (cos_one**2 + sin_one**2)\n",
    "        \n",
    "    return frequency, classical_periodogram\n",
    "    \n",
    "\n",
    "# compute the LombScargle periogoram\n",
    "frequency, power = LombScargle(times, measurements).autopower()\n",
    "frequency, classic_power = classical_periodogram(measurements, times, frequency)\n",
    "\n",
    "plt.figure(figsize=(10, 6))\n",
    "plt.plot(frequency, classic_power, label='Classical Periodogram', color='blue')\n",
    "plt.plot(frequency, power, label='Lomb-Scargle Periodogram', color='red')\n",
    "plt.xlabel('Frequency (Hz)')\n",
    "plt.ylabel('Power')\n",
    "plt.title('Comparison of Classical and Lomb-Scargle Periodograms')\n",
    "plt.grid(True)\n",
    "plt.legend()\n",
    "plt.yscale('log')\n",
    "plt.xlim([0, 1])\n",
    "plt.show()"
   ]
  },
  {
   "cell_type": "code",
   "execution_count": null,
   "metadata": {},
   "outputs": [],
   "source": []
  }
 ],
 "metadata": {
  "kernelspec": {
   "display_name": "Python 3 (ipykernel)",
   "language": "python",
   "name": "python3"
  },
  "language_info": {
   "codemirror_mode": {
    "name": "ipython",
    "version": 3
   },
   "file_extension": ".py",
   "mimetype": "text/x-python",
   "name": "python",
   "nbconvert_exporter": "python",
   "pygments_lexer": "ipython3",
   "version": "3.9.16"
  }
 },
 "nbformat": 4,
 "nbformat_minor": 4
}
